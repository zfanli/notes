{
 "metadata": {
  "language_info": {
   "codemirror_mode": {
    "name": "ipython",
    "version": 3
   },
   "file_extension": ".py",
   "mimetype": "text/x-python",
   "name": "python",
   "nbconvert_exporter": "python",
   "pygments_lexer": "ipython3",
   "version": "3.8.2"
  },
  "orig_nbformat": 2,
  "kernelspec": {
   "name": "python382jvsc74a57bd031f2aee4e71d21fbe5cf8b01ff0e069b9275f58929596ceb00d14d90e3e16cd6",
   "display_name": "Python 3.8.2 64-bit"
  },
  "metadata": {
   "interpreter": {
    "hash": "31f2aee4e71d21fbe5cf8b01ff0e069b9275f58929596ceb00d14d90e3e16cd6"
   }
  }
 },
 "nbformat": 4,
 "nbformat_minor": 2,
 "cells": [
  {
   "source": [
    "# Sort problems\n",
    "\n",
    "Practice playground."
   ],
   "cell_type": "markdown",
   "metadata": {}
  },
  {
   "source": [
    "## Insertion Sort"
   ],
   "cell_type": "markdown",
   "metadata": {}
  },
  {
   "cell_type": "code",
   "execution_count": 7,
   "metadata": {},
   "outputs": [
    {
     "output_type": "stream",
     "name": "stdout",
     "text": [
      "[0, 1, 2, 3, 4, 5, 6, 7, 8, 9]\n"
     ]
    }
   ],
   "source": [
    "# Prepare an input array for sorting.\n",
    "array = [4, 5, 1, 2, 3, 7, 8, 9, 6, 0]\n",
    "\n",
    "def sort(arr):\n",
    "\n",
    "    for x in range(1, len(arr)):\n",
    "        # Keep current value.\n",
    "        key = arr[x]\n",
    "        # Initialize a pointer to indicate the target to compare.\n",
    "        # It should be the previous one at first.\n",
    "        i = x - 1\n",
    "        # Keep checking wether the target is greater than current value,\n",
    "        # or no more element to test.\n",
    "        while i >= 0 and key < arr[i]:\n",
    "            # If target is greater, switch their values.\n",
    "            arr[i + 1] = arr[i]\n",
    "            # And keep testing the ones before the target.\n",
    "            i -= 1\n",
    "        # Because `i` indicate the one will be tested,\n",
    "        # if test finished, the one after `i` is which one should be updated.\n",
    "        arr[i + 1] = key\n",
    "\n",
    "    return arr\n",
    "\n",
    "print(sort(array))"
   ]
  },
  {
   "cell_type": "code",
   "execution_count": null,
   "metadata": {},
   "outputs": [],
   "source": []
  }
 ]
}