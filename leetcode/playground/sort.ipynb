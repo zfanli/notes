{
 "metadata": {
  "language_info": {
   "codemirror_mode": {
    "name": "ipython",
    "version": 3
   },
   "file_extension": ".py",
   "mimetype": "text/x-python",
   "name": "python",
   "nbconvert_exporter": "python",
   "pygments_lexer": "ipython3",
   "version": "3.8.2"
  },
  "orig_nbformat": 2,
  "kernelspec": {
   "name": "python382jvsc74a57bd031f2aee4e71d21fbe5cf8b01ff0e069b9275f58929596ceb00d14d90e3e16cd6",
   "display_name": "Python 3.8.2 64-bit"
  },
  "metadata": {
   "interpreter": {
    "hash": "31f2aee4e71d21fbe5cf8b01ff0e069b9275f58929596ceb00d14d90e3e16cd6"
   }
  }
 },
 "nbformat": 4,
 "nbformat_minor": 2,
 "cells": [
  {
   "source": [
    "# Sort problems\n",
    "\n",
    "Practice playground."
   ],
   "cell_type": "markdown",
   "metadata": {}
  },
  {
   "source": [
    "## Insertion Sort (Increasing)"
   ],
   "cell_type": "markdown",
   "metadata": {}
  },
  {
   "cell_type": "code",
   "execution_count": 1,
   "metadata": {},
   "outputs": [
    {
     "output_type": "stream",
     "name": "stdout",
     "text": [
      "[0, 1, 2, 3, 4, 5, 6, 7, 8, 9]\n"
     ]
    }
   ],
   "source": [
    "# Prepare an input array for sorting.\n",
    "array = [4, 5, 1, 2, 3, 7, 8, 9, 6, 0]\n",
    "\n",
    "def insertion_sort(arr):\n",
    "\n",
    "    for x in range(1, len(arr)):\n",
    "        # Keep current value.\n",
    "        key = arr[x]\n",
    "        # Initialize a pointer to indicate the target to compare.\n",
    "        # It should be the previous one at first.\n",
    "        i = x - 1\n",
    "        # Keep checking wether the target is greater than current value,\n",
    "        # or no more element to test.\n",
    "        while i >= 0 and key < arr[i]:\n",
    "            # If target is greater, switch their values.\n",
    "            arr[i + 1] = arr[i]\n",
    "            # And keep testing the ones before the target.\n",
    "            i -= 1\n",
    "        # Because `i` indicate the one will be tested,\n",
    "        # if test finished, the one after `i` is which one should be updated.\n",
    "        arr[i + 1] = key\n",
    "\n",
    "    return arr\n",
    "\n",
    "print(insertion_sort(array))"
   ]
  },
  {
   "source": [
    "```java\n",
    "public class Main {\n",
    "    public static void main(String[] args) {\n",
    "        int[] array = {4, 5, 1, 2, 3, 7, 8, 9, 6, 0};\n",
    "        System.out.println(Arrays.toString(array));\n",
    "        insertionSort(array);\n",
    "        System.out.println(Arrays.toString(array));\n",
    "    }\n",
    "    \n",
    "    private static void insertionSort(int[] arr) {\n",
    "        for (int i = 1; i < arr.length; i++) {\n",
    "            int val = arr[i];\n",
    "            int j = i - 1;\n",
    "            while (j >= 0 && arr[j] > val) {\n",
    "                arr[j + 1] = arr[j--];\n",
    "            }\n",
    "            arr[j + 1] = val;\n",
    "        }\n",
    "    }\n",
    "}\n",
    "```"
   ],
   "cell_type": "markdown",
   "metadata": {}
  },
  {
   "source": [
    "```javascript\n",
    "(function main() {\n",
    "    let arr = [4, 5, 1, 2, 3, 7, 8, 9, 6, 0]\n",
    "    console.log(arr);\n",
    "    for (let i = 1; i < arr.length; i++) {\n",
    "        let j = i - 1\n",
    "        let val = arr[i]\n",
    "        while (j >= 0 && arr[j] > val) {\n",
    "            arr[j + 1] = arr[j--]\n",
    "        }\n",
    "        arr[j + 1] = val\n",
    "    }\n",
    "    console.log(arr)\n",
    "}());\n",
    "```"
   ],
   "cell_type": "markdown",
   "metadata": {}
  },
  {
   "source": [
    "## Insertion Sort (Non-increasing)"
   ],
   "cell_type": "markdown",
   "metadata": {}
  },
  {
   "cell_type": "code",
   "execution_count": 2,
   "metadata": {},
   "outputs": [
    {
     "output_type": "stream",
     "name": "stdout",
     "text": [
      "[9, 8, 7, 6, 5, 4, 3, 2, 1, 0]\n"
     ]
    }
   ],
   "source": [
    "array = [4, 5, 1, 2, 3, 7, 8, 9, 6, 0]\n",
    "\n",
    "def insertion_sort_nonincreasing(arr):\n",
    "\n",
    "    for i in range(1, len(arr)):\n",
    "        val = arr[i]\n",
    "        j = i - 1\n",
    "        while j >= 0 and arr[j] < val:\n",
    "            arr[j + 1] = arr[j]\n",
    "            j -= 1\n",
    "        arr[j + 1] = val\n",
    "\n",
    "    return arr\n",
    "\n",
    "print(insertion_sort_nonincreasing(array))"
   ]
  },
  {
   "source": [
    "## Insertion Sort Recursive Version"
   ],
   "cell_type": "markdown",
   "metadata": {}
  },
  {
   "cell_type": "code",
   "execution_count": 3,
   "metadata": {},
   "outputs": [
    {
     "output_type": "stream",
     "name": "stdout",
     "text": [
      "[0, 1, 2, 3, 4, 5, 6, 7, 8, 9]\n"
     ]
    }
   ],
   "source": [
    "array = [4, 5, 1, 2, 3, 7, 8, 9, 6, 0]\n",
    "\n",
    "def insertion_sort_recursive(arr, n):\n",
    "    if n == 0:\n",
    "        return arr\n",
    "    arr = insertion_sort_recursive(arr, n - 1)\n",
    "    val = arr[n]\n",
    "    j = n - 1\n",
    "    while j >= 0 and arr[j] > val:\n",
    "        arr[j + 1] = arr[j]\n",
    "        j -= 1\n",
    "    arr[j + 1] = val\n",
    "    return arr\n",
    "\n",
    "print(insertion_sort_recursive(array, len(array) - 1))"
   ]
  },
  {
   "source": [
    "## Selection Sort\n",
    "\n",
    "Keep selecting the minimum one from the rest elements to swap to the proper position till no element left."
   ],
   "cell_type": "markdown",
   "metadata": {}
  },
  {
   "cell_type": "code",
   "execution_count": 3,
   "metadata": {},
   "outputs": [
    {
     "output_type": "stream",
     "name": "stdout",
     "text": [
      "[0, 1, 2, 3, 4, 5, 6, 7, 8, 9]\n"
     ]
    }
   ],
   "source": [
    "array = [4, 5, 1, 2, 3, 7, 8, 9, 6, 0]\n",
    "\n",
    "def selection_sort(arr):\n",
    "\n",
    "    for i in range(len(arr) - 1):\n",
    "        m = i\n",
    "        for j in range(i + 1, len(arr)):\n",
    "            if arr[j] < arr[m]:\n",
    "                m = j\n",
    "        arr[i], arr[m] = arr[m], arr[i]\n",
    "    \n",
    "    return arr\n",
    "\n",
    "print(selection_sort(array))"
   ]
  },
  {
   "cell_type": "code",
   "execution_count": 5,
   "metadata": {},
   "outputs": [
    {
     "output_type": "stream",
     "name": "stdout",
     "text": [
      "[9, 8, 7, 6, 5, 4, 3, 2, 1, 0]\n"
     ]
    }
   ],
   "source": [
    "array = [4, 5, 1, 2, 3, 7, 8, 9, 6, 0]\n",
    "\n",
    "def selection_sort_nonincreasing(arr):\n",
    "\n",
    "    for i in range(len(arr) - 1):\n",
    "        m = i\n",
    "        for j in range(i + 1, len(arr)):\n",
    "            if arr[j] > arr[m]:\n",
    "                m = j\n",
    "        arr[i], arr[m] = arr[m], arr[i]\n",
    "    \n",
    "    return arr\n",
    "\n",
    "print(selection_sort_nonincreasing(array))"
   ]
  },
  {
   "source": [
    "## Merge Sort\n",
    "\n",
    "O(nlgn)."
   ],
   "cell_type": "markdown",
   "metadata": {}
  },
  {
   "cell_type": "code",
   "execution_count": 11,
   "metadata": {},
   "outputs": [
    {
     "output_type": "stream",
     "name": "stdout",
     "text": [
      "[0, 1, 2, 3, 4, 5, 6, 7, 8, 9]\n"
     ]
    }
   ],
   "source": [
    "array = [4, 5, 1, 2, 3, 7, 8, 9, 6, 0]\n",
    "\n",
    "def merge(arr, s, m, e):\n",
    "    l, r = [], []\n",
    "    for i in range(s, m + 1):\n",
    "        l.append(arr[i])\n",
    "    for j in range(m + 1, e + 1):\n",
    "        r.append(arr[j])\n",
    "    l.append(float(\"inf\"))\n",
    "    r.append(float(\"inf\"))\n",
    "    i = j = 0\n",
    "    for k in range(s, e + 1):\n",
    "        if l[i] <= r[j]:\n",
    "            arr[k] = l[i]\n",
    "            i += 1\n",
    "        else:\n",
    "            arr[k] = r[j]\n",
    "            j += 1\n",
    "    \n",
    "\n",
    "def merge_sort(arr, s, e):\n",
    "    if s == e:\n",
    "        return\n",
    "    m = s + ((e - s) >> 1)\n",
    "    merge_sort(arr, s, m)\n",
    "    merge_sort(arr, m + 1, e)\n",
    "    merge(arr, s, m, e)\n",
    "\n",
    "merge_sort(array, 0, len(array) - 1)\n",
    "print(array)"
   ]
  },
  {
   "cell_type": "code",
   "execution_count": null,
   "metadata": {},
   "outputs": [],
   "source": []
  }
 ]
}